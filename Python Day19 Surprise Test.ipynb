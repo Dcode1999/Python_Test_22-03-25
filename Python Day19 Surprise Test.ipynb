{
 "cells": [
  {
   "cell_type": "code",
   "execution_count": 1,
   "id": "27b43537-d7df-4ad4-bcd9-fbaad9fc77c2",
   "metadata": {},
   "outputs": [],
   "source": [
    "import numpy as np\n",
    "import pandas as pd"
   ]
  },
  {
   "cell_type": "code",
   "execution_count": 21,
   "id": "1f9bedb8-4b3b-4334-ac84-5c0f1ac079dc",
   "metadata": {},
   "outputs": [
    {
     "name": "stdout",
     "output_type": "stream",
     "text": [
      "<class 'dict'>\n",
      "{1: 'Digambar', 2: 'Imarticus'}\n"
     ]
    }
   ],
   "source": [
    "# Q1\n",
    "\n",
    "a=[\"Digambar\",\"Imarticus\"]\n",
    "b=[1,2]\n",
    "di = dict(zip(b,a))\n",
    "print(type(di))\n",
    "\n",
    "print(di)"
   ]
  },
  {
   "cell_type": "code",
   "execution_count": 38,
   "id": "b425ce91-87e5-4fe7-a6e2-fb54f824c3f1",
   "metadata": {},
   "outputs": [
    {
     "name": "stdin",
     "output_type": "stream",
     "text": [
      "Enter string here:  ABAB\n"
     ]
    },
    {
     "name": "stdout",
     "output_type": "stream",
     "text": [
      "String is not palindrom\n"
     ]
    }
   ],
   "source": [
    "# Q2 palindrom\n",
    "\n",
    "sen = input(\"Enter string here: \")\n",
    "ren = sen[::-1]\n",
    "if sen==ren:\n",
    "    print(\"Given string is a palindrom\")\n",
    "else:\n",
    "    print(\"String is not palindrom\")\n",
    "\n"
   ]
  },
  {
   "cell_type": "code",
   "execution_count": 4,
   "id": "b5249caf-a1b2-4542-a293-caa642a5e561",
   "metadata": {},
   "outputs": [
    {
     "name": "stdout",
     "output_type": "stream",
     "text": [
      "54\n"
     ]
    }
   ],
   "source": [
    "# Q3\n",
    "\n",
    "lis = [1,2,44,22,55,32]\n",
    "\n",
    "s = max(lis)\n",
    "print(s)"
   ]
  },
  {
   "cell_type": "code",
   "execution_count": 39,
   "id": "b88a671e-f78e-4e05-8266-dc780d3d6a1e",
   "metadata": {},
   "outputs": [
    {
     "ename": "SyntaxError",
     "evalue": "':' expected after dictionary key (2861175884.py, line 3)",
     "output_type": "error",
     "traceback": [
      "\u001b[1;36m  Cell \u001b[1;32mIn[39], line 3\u001b[1;36m\u001b[0m\n\u001b[1;33m    df= {City : \"Mumbai\",\"Pune\",\"Delhi\",\"Chennai\"\u001b[0m\n\u001b[1;37m                              ^\u001b[0m\n\u001b[1;31mSyntaxError\u001b[0m\u001b[1;31m:\u001b[0m ':' expected after dictionary key\n"
     ]
    }
   ],
   "source": [
    "# Q4\n",
    "\n",
    "df= {City : \"Mumbai\",\"Pune\",\"Delhi\",\"Chennai\" \n",
    "     Age:20,32,39,50}\n",
    "\n",
    "type(df)"
   ]
  },
  {
   "cell_type": "code",
   "execution_count": null,
   "id": "97b6a297-bc51-4544-b08f-8c07e909fa33",
   "metadata": {},
   "outputs": [],
   "source": []
  },
  {
   "cell_type": "code",
   "execution_count": null,
   "id": "395086ad-d4ce-4567-9b9a-b9f4e6ab04cb",
   "metadata": {},
   "outputs": [],
   "source": []
  },
  {
   "cell_type": "code",
   "execution_count": null,
   "id": "a40e79e9-46a0-40fd-b003-ecd4a394207f",
   "metadata": {},
   "outputs": [],
   "source": []
  },
  {
   "cell_type": "code",
   "execution_count": null,
   "id": "75ba67d3-bd58-4f4c-a2c1-3002740f356f",
   "metadata": {},
   "outputs": [],
   "source": []
  },
  {
   "cell_type": "code",
   "execution_count": null,
   "id": "9f76d688-2998-403a-b438-ee6750a1cdef",
   "metadata": {},
   "outputs": [],
   "source": []
  },
  {
   "cell_type": "code",
   "execution_count": null,
   "id": "4b0950de-5ddb-4abc-b557-841b197d13fd",
   "metadata": {},
   "outputs": [],
   "source": []
  },
  {
   "cell_type": "code",
   "execution_count": null,
   "id": "ca63660c-5b59-425e-bdab-df960d893135",
   "metadata": {},
   "outputs": [],
   "source": []
  },
  {
   "cell_type": "code",
   "execution_count": null,
   "id": "3a2d5afe-127d-44b8-b3a3-7ad1866549c7",
   "metadata": {},
   "outputs": [],
   "source": []
  },
  {
   "cell_type": "code",
   "execution_count": null,
   "id": "c07a0a62-c1a2-4833-94be-45a2bcfbe20c",
   "metadata": {},
   "outputs": [],
   "source": []
  },
  {
   "cell_type": "code",
   "execution_count": null,
   "id": "9c027d46-e4a6-49e5-890f-d820724a4abd",
   "metadata": {},
   "outputs": [],
   "source": []
  },
  {
   "cell_type": "code",
   "execution_count": null,
   "id": "78dc10fe-a4e9-4dfd-a875-7aa064cba60d",
   "metadata": {},
   "outputs": [],
   "source": []
  },
  {
   "cell_type": "code",
   "execution_count": null,
   "id": "773b0ece-8b12-4505-8149-387991d0fab7",
   "metadata": {},
   "outputs": [],
   "source": []
  },
  {
   "cell_type": "code",
   "execution_count": null,
   "id": "1d6787b8-fbe5-4293-82fb-a71cfffd2d22",
   "metadata": {},
   "outputs": [],
   "source": []
  },
  {
   "cell_type": "code",
   "execution_count": null,
   "id": "3f0cb2a4-1c71-4e94-b45a-37c9591aed46",
   "metadata": {},
   "outputs": [],
   "source": []
  },
  {
   "cell_type": "code",
   "execution_count": null,
   "id": "c63e59cb-dad0-4ea6-9f5b-916e0b8e25bd",
   "metadata": {},
   "outputs": [],
   "source": []
  },
  {
   "cell_type": "code",
   "execution_count": null,
   "id": "a3227a1c-d464-47c0-b7d7-83b21c8747a8",
   "metadata": {},
   "outputs": [],
   "source": []
  },
  {
   "cell_type": "code",
   "execution_count": null,
   "id": "fb6a22d2-0fa2-4929-b1ff-d391b6d79751",
   "metadata": {},
   "outputs": [],
   "source": []
  },
  {
   "cell_type": "code",
   "execution_count": null,
   "id": "4e9e5a1d-cb75-4362-b8c0-ccc4344212c9",
   "metadata": {},
   "outputs": [],
   "source": []
  }
 ],
 "metadata": {
  "kernelspec": {
   "display_name": "Python 3 (ipykernel)",
   "language": "python",
   "name": "python3"
  },
  "language_info": {
   "codemirror_mode": {
    "name": "ipython",
    "version": 3
   },
   "file_extension": ".py",
   "mimetype": "text/x-python",
   "name": "python",
   "nbconvert_exporter": "python",
   "pygments_lexer": "ipython3",
   "version": "3.12.7"
  }
 },
 "nbformat": 4,
 "nbformat_minor": 5
}
